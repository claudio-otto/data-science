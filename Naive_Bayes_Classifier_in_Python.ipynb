{
  "cells": [
    {
      "cell_type": "markdown",
      "metadata": {
        "id": "view-in-github",
        "colab_type": "text"
      },
      "source": [
        "<a href=\"https://colab.research.google.com/github/claudio-otto/data-science/blob/main/Naive_Bayes_Classifier_in_Python.ipynb\" target=\"_parent\"><img src=\"https://colab.research.google.com/assets/colab-badge.svg\" alt=\"Open In Colab\"/></a>"
      ]
    },
    {
      "source": [
        "\n",
        "# IMPORTANT: RUN THIS CELL IN ORDER TO IMPORT YOUR KAGGLE DATA SOURCES\n",
        "# TO THE CORRECT LOCATION (/kaggle/input) IN YOUR NOTEBOOK,\n",
        "# THEN FEEL FREE TO DELETE THIS CELL.\n",
        "# NOTE: THIS NOTEBOOK ENVIRONMENT DIFFERS FROM KAGGLE'S PYTHON\n",
        "# ENVIRONMENT SO THERE MAY BE MISSING LIBRARIES USED BY YOUR\n",
        "# NOTEBOOK.\n",
        "\n",
        "import os\n",
        "import sys\n",
        "from tempfile import NamedTemporaryFile\n",
        "from urllib.request import urlopen\n",
        "from urllib.parse import unquote, urlparse\n",
        "from urllib.error import HTTPError\n",
        "from zipfile import ZipFile\n",
        "import tarfile\n",
        "import shutil\n",
        "\n",
        "CHUNK_SIZE = 40960\n",
        "DATA_SOURCE_MAPPING = 'adult-dataset:https%3A%2F%2Fstorage.googleapis.com%2Fkaggle-data-sets%2F86608%2F199574%2Fbundle%2Farchive.zip%3FX-Goog-Algorithm%3DGOOG4-RSA-SHA256%26X-Goog-Credential%3Dgcp-kaggle-com%2540kaggle-161607.iam.gserviceaccount.com%252F20240403%252Fauto%252Fstorage%252Fgoog4_request%26X-Goog-Date%3D20240403T185918Z%26X-Goog-Expires%3D259200%26X-Goog-SignedHeaders%3Dhost%26X-Goog-Signature%3D064d580a0b45e099590c5c37024f12c7c01ba399e136e24e2f719246df1d9b1c577f77a7734cd39f050fab1d78179c28efbfbf7f8122280e6e6f12949b98ace7797508acb43e54e53c18db3451b5c64a462529c0c3e71a17cf01d5c38e24585969d72ab5b2bace0d7b083e3ab5181cd627aa441a25193a3813cee087891433cd5a133fc1707dfc9c371cd5696e51de08fe58cec246279a3cebcb689d7b7388288c20b4216ae79b1ded7e8846f1421a5960ec997be246a7c8350a19ac70fa4aba7729d722da90d55bb28c2105ed3985a09a5f917d1a5582d71f1dc20ad9d9d5ad949974035faa71792501aa5095c88780fc3d9a50e9153d4b1ca3cc960f2e9f81'\n",
        "\n",
        "KAGGLE_INPUT_PATH='/kaggle/input'\n",
        "KAGGLE_WORKING_PATH='/kaggle/working'\n",
        "KAGGLE_SYMLINK='kaggle'\n",
        "\n",
        "!umount /kaggle/input/ 2> /dev/null\n",
        "shutil.rmtree('/kaggle/input', ignore_errors=True)\n",
        "os.makedirs(KAGGLE_INPUT_PATH, 0o777, exist_ok=True)\n",
        "os.makedirs(KAGGLE_WORKING_PATH, 0o777, exist_ok=True)\n",
        "\n",
        "try:\n",
        "  os.symlink(KAGGLE_INPUT_PATH, os.path.join(\"..\", 'input'), target_is_directory=True)\n",
        "except FileExistsError:\n",
        "  pass\n",
        "try:\n",
        "  os.symlink(KAGGLE_WORKING_PATH, os.path.join(\"..\", 'working'), target_is_directory=True)\n",
        "except FileExistsError:\n",
        "  pass\n",
        "\n",
        "for data_source_mapping in DATA_SOURCE_MAPPING.split(','):\n",
        "    directory, download_url_encoded = data_source_mapping.split(':')\n",
        "    download_url = unquote(download_url_encoded)\n",
        "    filename = urlparse(download_url).path\n",
        "    destination_path = os.path.join(KAGGLE_INPUT_PATH, directory)\n",
        "    try:\n",
        "        with urlopen(download_url) as fileres, NamedTemporaryFile() as tfile:\n",
        "            total_length = fileres.headers['content-length']\n",
        "            print(f'Downloading {directory}, {total_length} bytes compressed')\n",
        "            dl = 0\n",
        "            data = fileres.read(CHUNK_SIZE)\n",
        "            while len(data) > 0:\n",
        "                dl += len(data)\n",
        "                tfile.write(data)\n",
        "                done = int(50 * dl / int(total_length))\n",
        "                sys.stdout.write(f\"\\r[{'=' * done}{' ' * (50-done)}] {dl} bytes downloaded\")\n",
        "                sys.stdout.flush()\n",
        "                data = fileres.read(CHUNK_SIZE)\n",
        "            if filename.endswith('.zip'):\n",
        "              with ZipFile(tfile) as zfile:\n",
        "                zfile.extractall(destination_path)\n",
        "            else:\n",
        "              with tarfile.open(tfile.name) as tarfile:\n",
        "                tarfile.extractall(destination_path)\n",
        "            print(f'\\nDownloaded and uncompressed: {directory}')\n",
        "    except HTTPError as e:\n",
        "        print(f'Failed to load (likely expired) {download_url} to path {destination_path}')\n",
        "        continue\n",
        "    except OSError as e:\n",
        "        print(f'Failed to load {download_url} to path {destination_path}')\n",
        "        continue\n",
        "\n",
        "print('Data source import complete.')\n"
      ],
      "metadata": {
        "id": "Vm-EVPiVclh-"
      },
      "cell_type": "code",
      "outputs": [],
      "execution_count": null
    },
    {
      "metadata": {
        "id": "6zT2iHV-clh_"
      },
      "cell_type": "markdown",
      "source": [
        "<a class=\"anchor\" id=\"0\"></a>\n",
        "# **Naive Bayes Classifier in Python**\n",
        "\n",
        "\n",
        "Hello friends,\n",
        "\n",
        "In machine learning, Naïve Bayes classification is a straightforward and powerful algorithm for the classification task. In this kernel, I implement Naive Bayes Classification algorithm with Python and Scikit-Learn. I build a Naive Bayes Classifier to predict whether a person makes over 50K a year.\n",
        "\n",
        "So, let's get started."
      ]
    },
    {
      "metadata": {
        "id": "wgZ4iAm9cliA"
      },
      "cell_type": "markdown",
      "source": [
        "**As always, I hope you find this kernel useful and your <font color=\"red\"><b>UPVOTES</b></font> would be highly appreciated**.\n"
      ]
    },
    {
      "metadata": {
        "id": "M1aR4cLicliA"
      },
      "cell_type": "markdown",
      "source": [
        "<a class=\"anchor\" id=\"0.1\"></a>\n",
        "# **Table of Contents**\n",
        "\n",
        "1.\t[Introduction to Naive Bayes algorithm](#1)\n",
        "2.\t[Naive Bayes algorithm intuition](#2)\n",
        "3.\t[Types of Naive Bayes algorithm](#3)\n",
        "4.\t[Applications of Naive Bayes algorithm](#4)\n",
        "5.\t[Import libraries](#5)\n",
        "6.\t[Import dataset](#6)\n",
        "7.\t[Exploratory data analysis](#7)\n",
        "8.\t[Declare feature vector and target variable](#8)\n",
        "9.\t[Split data into separate training and test set](#9)\n",
        "10.\t[Feature engineering](#10)\n",
        "11.\t[Feature scaling](#11)\n",
        "12.\t[Model training](#12)\n",
        "13.\t[Predict the results](#13)\n",
        "14.\t[Check accuracy score](#14)\n",
        "15.\t[Confusion matrix](#15)\n",
        "16.\t[Classification metrices](#16)\n",
        "17.\t[Calculate class probabilities](#17)\n",
        "18.\t[ROC - AUC](#18)\n",
        "19.\t[k-Fold Cross Validation](#19)\n",
        "20.\t[Results and conclusion](#20)\n",
        "21. [References](#21)\n"
      ]
    },
    {
      "metadata": {
        "id": "boYEmYfqcliA"
      },
      "cell_type": "markdown",
      "source": [
        "# **1. Introduction to Naive Bayes algorithm** <a class=\"anchor\" id=\"1\"></a>\n",
        "\n",
        "[Table of Contents](#0.1)\n",
        "\n",
        "\n",
        "In machine learning, Naïve Bayes classification is a straightforward and powerful algorithm for the classification task. Naïve Bayes classification is based on applying Bayes’ theorem with strong independence assumption between the features.  Naïve Bayes classification produces good results when we use it for textual data analysis such as Natural Language Processing.\n",
        "\n",
        "\n",
        "Naïve Bayes models are also known as `simple Bayes` or `independent Bayes`. All these names refer to the application of Bayes’ theorem in the classifier’s decision rule. Naïve Bayes classifier applies the Bayes’ theorem in practice. This classifier brings the power of Bayes’ theorem to machine learning.\n"
      ]
    },
    {
      "metadata": {
        "id": "7VYnZMtocliB"
      },
      "cell_type": "markdown",
      "source": [
        "# **2. Naive Bayes algorithm intuition** <a class=\"anchor\" id=\"2\"></a>\n",
        "\n",
        "[Table of Contents](#0.1)\n",
        "\n",
        "\n",
        "Naïve Bayes Classifier uses the Bayes’ theorem to predict membership probabilities for each class such as the probability that given record or data point belongs to a particular class. The class with the highest probability is considered as the most likely class. This is also known as the **Maximum A Posteriori (MAP)**.\n",
        "\n",
        "The **MAP for a hypothesis with 2 events A and B is**\n",
        "\n",
        "**MAP (A)**\n",
        "\n",
        "= max (P (A | B))\n",
        "\n",
        "= max (P (B | A) * P (A))/P (B)\n",
        "\n",
        "= max (P (B | A) * P (A))\n",
        "\n",
        "\n",
        "Here, P (B) is evidence probability. It is used to normalize the result. It remains the same, So, removing it would not affect the result.\n",
        "\n",
        "\n",
        "Naïve Bayes Classifier assumes that all the features are unrelated to each other. Presence or absence of a feature does not influence the presence or absence of any other feature.\n",
        "\n",
        "\n",
        "In real world datasets, we test a hypothesis given multiple evidence on features. So, the calculations become quite complicated. To simplify the work, the feature independence approach is used to uncouple multiple evidence and treat each as an independent one.\n"
      ]
    },
    {
      "metadata": {
        "id": "HAhGtNlLcliB"
      },
      "cell_type": "markdown",
      "source": [
        "# **3. Types of Naive Bayes algorithm** <a class=\"anchor\" id=\"3\"></a>\n",
        "\n",
        "[Table of Contents](#0.1)\n",
        "\n",
        "\n",
        "There are 3 types of Naïve Bayes algorithm. The 3 types are listed below:-\n",
        "\n",
        "  1. Gaussian Naïve Bayes\n",
        "\n",
        "  2. Multinomial Naïve Bayes\n",
        "\n",
        "  3. Bernoulli Naïve Bayes\n",
        "\n",
        "These 3 types of algorithm are explained below.\n"
      ]
    },
    {
      "metadata": {
        "id": "EzzfjSYicliB"
      },
      "cell_type": "markdown",
      "source": [
        "## **Gaussian Naïve Bayes algorithm**\n",
        "\n",
        "\n",
        "When we have continuous attribute values, we made an assumption that the values associated with each class are distributed according to Gaussian or Normal distribution. For example, suppose the training data contains a continuous attribute x. We first segment the data by the class, and then compute the mean and variance of x in each class. Let µi be the mean of the values and let σi be the variance of the values associated with the ith class. Suppose we have some observation value xi . Then, the probability distribution of xi given a class can be computed by the following equation –\n",
        "\n",
        "\n",
        "![Gaussian Naive Bayes algorithm](https://encrypted-tbn0.gstatic.com/images?q=tbn:ANd9GcQEWCcq1XtC1Yw20KWSHn2axYa7eY-a0T1TGtdVn5PvOpv9wW3FeA&s)"
      ]
    },
    {
      "metadata": {
        "id": "J0A0zmFMcliB"
      },
      "cell_type": "markdown",
      "source": [
        "## **Multinomial Naïve Bayes algorithm**\n",
        "\n",
        "With a Multinomial Naïve Bayes model, samples (feature vectors) represent the frequencies with which certain events have been generated by a multinomial (p1, . . . ,pn) where pi is the probability that event i occurs. Multinomial Naïve Bayes algorithm is preferred to use on data that is multinomially distributed. It is one of the standard algorithms which is used in text categorization classification."
      ]
    },
    {
      "metadata": {
        "id": "VB5BPKFZcliB"
      },
      "cell_type": "markdown",
      "source": [
        "## **Bernoulli Naïve Bayes algorithm**\n",
        "\n",
        "In the multivariate Bernoulli event model, features are independent boolean variables (binary variables) describing inputs. Just like the multinomial model, this model is also popular for document classification tasks where binary term occurrence features are used rather than term frequencies."
      ]
    },
    {
      "metadata": {
        "id": "SidyPMOIcliB"
      },
      "cell_type": "markdown",
      "source": [
        "# **4. Applications of Naive Bayes algorithm** <a class=\"anchor\" id=\"4\"></a>\n",
        "\n",
        "[Table of Contents](#0.1)\n",
        "\n",
        "\n",
        "\n",
        "Naïve Bayes is one of the most straightforward and fast classification algorithm. It is very well suited for large volume of data. It is successfully used in various applications such as :\n",
        "\n",
        "1. Spam filtering\n",
        "2. Text classification\n",
        "3. Sentiment analysis\n",
        "4. Recommender systems\n",
        "\n",
        "It uses Bayes theorem of probability for prediction of unknown class.\n"
      ]
    },
    {
      "metadata": {
        "id": "Uzz0WzxzcliB"
      },
      "cell_type": "markdown",
      "source": [
        "# **5. Import libraries** <a class=\"anchor\" id=\"5\"></a>\n",
        "\n",
        "[Table of Contents](#0.1)"
      ]
    },
    {
      "metadata": {
        "trusted": true,
        "id": "grAKwY2ccliB"
      },
      "cell_type": "code",
      "source": [
        "# This Python 3 environment comes with many helpful analytics libraries installed\n",
        "# It is defined by the kaggle/python docker image: https://github.com/kaggle/docker-python\n",
        "# For example, here's several helpful packages to load in\n",
        "\n",
        "import numpy as np # linear algebra\n",
        "import pandas as pd # data processing, CSV file I/O (e.g. pd.read_csv)\n",
        "import matplotlib.pyplot as plt # for data visualization purposes\n",
        "import seaborn as sns # for statistical data visualization\n",
        "%matplotlib inline\n",
        "\n",
        "# Input data files are available in the \"../input/\" directory.\n",
        "# For example, running this (by clicking run or pressing Shift+Enter) will list all files under the input directory\n",
        "\n",
        "import os\n",
        "for dirname, _, filenames in os.walk('/kaggle/input'):\n",
        "    for filename in filenames:\n",
        "        print(os.path.join(dirname, filename))\n",
        "\n",
        "# Any results you write to the current directory are saved as output."
      ],
      "execution_count": null,
      "outputs": []
    },
    {
      "metadata": {
        "trusted": true,
        "id": "zrhkMWAkcliC"
      },
      "cell_type": "code",
      "source": [
        "import warnings\n",
        "\n",
        "warnings.filterwarnings('ignore')"
      ],
      "execution_count": null,
      "outputs": []
    },
    {
      "metadata": {
        "id": "q3shEN-3cliC"
      },
      "cell_type": "markdown",
      "source": [
        "# **6. Import dataset** <a class=\"anchor\" id=\"6\"></a>\n",
        "\n",
        "[Table of Contents](#0.1)"
      ]
    },
    {
      "metadata": {
        "trusted": true,
        "id": "qV4D4zUccliC"
      },
      "cell_type": "code",
      "source": [
        "data = '/kaggle/input/adult-dataset/adult.csv'\n",
        "\n",
        "df = pd.read_csv(data, header=None, sep=',\\s')"
      ],
      "execution_count": null,
      "outputs": []
    },
    {
      "metadata": {
        "id": "_wOgdy1qcliC"
      },
      "cell_type": "markdown",
      "source": [
        "# **7. Exploratory data analysis** <a class=\"anchor\" id=\"7\"></a>\n",
        "\n",
        "[Table of Contents](#0.1)\n",
        "\n",
        "\n",
        "Now, I will explore the data to gain insights about the data."
      ]
    },
    {
      "metadata": {
        "trusted": true,
        "id": "2GwUZgpacliC"
      },
      "cell_type": "code",
      "source": [
        "# view dimensions of dataset\n",
        "\n",
        "df.shape"
      ],
      "execution_count": null,
      "outputs": []
    },
    {
      "metadata": {
        "id": "fqeaNGVCcliC"
      },
      "cell_type": "markdown",
      "source": [
        "We can see that there are 32561 instances and 15 attributes in the data set."
      ]
    },
    {
      "metadata": {
        "id": "95Au4knjcliC"
      },
      "cell_type": "markdown",
      "source": [
        "### View top 5 rows of dataset"
      ]
    },
    {
      "metadata": {
        "trusted": true,
        "id": "iBPwFQSacliC"
      },
      "cell_type": "code",
      "source": [
        "# preview the dataset\n",
        "\n",
        "df.head()"
      ],
      "execution_count": null,
      "outputs": []
    },
    {
      "metadata": {
        "id": "97Ddmfz1cliC"
      },
      "cell_type": "markdown",
      "source": [
        "### Rename column names\n",
        "\n",
        "We can see that the dataset does not have proper column names. The columns are merely labelled as 0,1,2.... and so on. We should give proper names to the columns. I will do it as follows:-"
      ]
    },
    {
      "metadata": {
        "trusted": true,
        "id": "ELwx6bqNcliC"
      },
      "cell_type": "code",
      "source": [
        "col_names = ['age', 'workclass', 'fnlwgt', 'education', 'education_num', 'marital_status', 'occupation', 'relationship',\n",
        "             'race', 'sex', 'capital_gain', 'capital_loss', 'hours_per_week', 'native_country', 'income']\n",
        "\n",
        "df.columns = col_names\n",
        "\n",
        "df.columns"
      ],
      "execution_count": null,
      "outputs": []
    },
    {
      "metadata": {
        "trusted": true,
        "id": "-TdjeCawcliC"
      },
      "cell_type": "code",
      "source": [
        "# let's again preview the dataset\n",
        "\n",
        "df.head()"
      ],
      "execution_count": null,
      "outputs": []
    },
    {
      "metadata": {
        "id": "4JK2MWN-cliC"
      },
      "cell_type": "markdown",
      "source": [
        "We can see that the column names are renamed. Now, the columns have meaningful names."
      ]
    },
    {
      "metadata": {
        "id": "3FXMJz6TcliC"
      },
      "cell_type": "markdown",
      "source": [
        "### View summary of dataset"
      ]
    },
    {
      "metadata": {
        "trusted": true,
        "id": "IBh1yVaDcliC"
      },
      "cell_type": "code",
      "source": [
        "# view summary of dataset\n",
        "\n",
        "df.info()"
      ],
      "execution_count": null,
      "outputs": []
    },
    {
      "metadata": {
        "id": "5rnFeauPcliC"
      },
      "cell_type": "markdown",
      "source": [
        "We can see that there are no missing values in the dataset. I will confirm this further."
      ]
    },
    {
      "metadata": {
        "id": "dSygjunfcliD"
      },
      "cell_type": "markdown",
      "source": [
        "### Types of variables\n",
        "\n",
        "\n",
        "In this section, I segregate the dataset into categorical and numerical variables. There are a mixture of categorical and numerical variables in the dataset. Categorical variables have data type object. Numerical variables have data type int64.\n",
        "\n",
        "\n",
        "First of all, I will explore categorical variables."
      ]
    },
    {
      "metadata": {
        "id": "9qmbLL91cliD"
      },
      "cell_type": "markdown",
      "source": [
        "### Explore categorical variables"
      ]
    },
    {
      "metadata": {
        "trusted": true,
        "id": "F6p8l5n3cliD"
      },
      "cell_type": "code",
      "source": [
        "# find categorical variables\n",
        "\n",
        "categorical = [var for var in df.columns if df[var].dtype=='O']\n",
        "\n",
        "print('There are {} categorical variables\\n'.format(len(categorical)))\n",
        "\n",
        "print('The categorical variables are :\\n\\n', categorical)"
      ],
      "execution_count": null,
      "outputs": []
    },
    {
      "metadata": {
        "trusted": true,
        "id": "pa92GqTZcliD"
      },
      "cell_type": "code",
      "source": [
        "# view the categorical variables\n",
        "\n",
        "df[categorical].head()"
      ],
      "execution_count": null,
      "outputs": []
    },
    {
      "metadata": {
        "id": "dSuHz835cliD"
      },
      "cell_type": "markdown",
      "source": [
        "### Summary of categorical variables\n",
        "\n",
        "\n",
        "- There are 9 categorical variables.\n",
        "\n",
        "\n",
        "- The categorical variables are given by `workclass`, `education`, `marital_status`, `occupation`, `relationship`, `race`, `sex`, `native_country` and `income`.\n",
        "\n",
        "\n",
        "- `income` is the target variable."
      ]
    },
    {
      "metadata": {
        "id": "XZnXx6DccliD"
      },
      "cell_type": "markdown",
      "source": [
        "### Explore problems within categorical variables\n",
        "\n",
        "\n",
        "First, I will explore the categorical variables.\n",
        "\n",
        "\n",
        "### Missing values in categorical variables"
      ]
    },
    {
      "metadata": {
        "trusted": true,
        "id": "Txt72qUEcliD"
      },
      "cell_type": "code",
      "source": [
        "# check missing values in categorical variables\n",
        "\n",
        "df[categorical].isnull().sum()"
      ],
      "execution_count": null,
      "outputs": []
    },
    {
      "metadata": {
        "id": "Lx5J3rklcliD"
      },
      "cell_type": "markdown",
      "source": [
        "We can see that there are no missing values in the categorical variables. I will confirm this further."
      ]
    },
    {
      "metadata": {
        "id": "T8dSXmcjcliD"
      },
      "cell_type": "markdown",
      "source": [
        "### Frequency counts of categorical variables\n",
        "\n",
        "\n",
        "Now, I will check the frequency counts of categorical variables."
      ]
    },
    {
      "metadata": {
        "trusted": true,
        "id": "tdI9xwskcliD"
      },
      "cell_type": "code",
      "source": [
        "# view frequency counts of values in categorical variables\n",
        "\n",
        "for var in categorical:\n",
        "\n",
        "    print(df[var].value_counts())"
      ],
      "execution_count": null,
      "outputs": []
    },
    {
      "metadata": {
        "trusted": true,
        "id": "fSgWcUxScliD"
      },
      "cell_type": "code",
      "source": [
        "# view frequency distribution of categorical variables\n",
        "\n",
        "for var in categorical:\n",
        "\n",
        "    print(df[var].value_counts()/np.float(len(df)))"
      ],
      "execution_count": null,
      "outputs": []
    },
    {
      "metadata": {
        "id": "WLT13neTcliD"
      },
      "cell_type": "markdown",
      "source": [
        "Now, we can see that there are several variables like `workclass`, `occupation` and `native_country` which contain missing values. Generally, the missing values are coded as `NaN` and python will detect them with the usual command of `df.isnull().sum()`.\n",
        "\n",
        "But, in this case the missing values are coded as `?`. Python fail to detect these as missing values because it do not consider `?` as missing values. So, I have to replace `?` with `NaN` so that Python can detect these missing values.\n",
        "\n",
        "I will explore these variables and replace `?` with `NaN`."
      ]
    },
    {
      "metadata": {
        "id": "Myt1w3dRcliD"
      },
      "cell_type": "markdown",
      "source": [
        "### Explore workclass variable"
      ]
    },
    {
      "metadata": {
        "trusted": true,
        "id": "Z9nhMYfGcliE"
      },
      "cell_type": "code",
      "source": [
        "# check labels in workclass variable\n",
        "\n",
        "df.workclass.unique()"
      ],
      "execution_count": null,
      "outputs": []
    },
    {
      "metadata": {
        "trusted": true,
        "id": "gn2SFRx5cliE"
      },
      "cell_type": "code",
      "source": [
        "# check frequency distribution of values in workclass variable\n",
        "\n",
        "df.workclass.value_counts()"
      ],
      "execution_count": null,
      "outputs": []
    },
    {
      "metadata": {
        "id": "eA9tmwQRcliE"
      },
      "cell_type": "markdown",
      "source": [
        "We can see that there are 1836 values encoded as `?` in workclass variable. I will replace these `?` with `NaN`."
      ]
    },
    {
      "metadata": {
        "trusted": true,
        "id": "MAJpnmCVcliE"
      },
      "cell_type": "code",
      "source": [
        "# replace '?' values in workclass variable with `NaN`\n",
        "\n",
        "\n",
        "df['workclass'].replace('?', np.NaN, inplace=True)"
      ],
      "execution_count": null,
      "outputs": []
    },
    {
      "metadata": {
        "scrolled": true,
        "trusted": true,
        "id": "vQARg97XcliE"
      },
      "cell_type": "code",
      "source": [
        "# again check the frequency distribution of values in workclass variable\n",
        "\n",
        "df.workclass.value_counts()"
      ],
      "execution_count": null,
      "outputs": []
    },
    {
      "metadata": {
        "id": "91Onp2DycliE"
      },
      "cell_type": "markdown",
      "source": [
        "Now, we can see that there are no values encoded as `?` in the `workclass` variable.\n",
        "\n",
        "I will adopt similar approach with `occupation` and `native_country` column."
      ]
    },
    {
      "metadata": {
        "id": "sTTEWR_acliE"
      },
      "cell_type": "markdown",
      "source": [
        "### Explore occupation variable"
      ]
    },
    {
      "metadata": {
        "trusted": true,
        "id": "c_gNUlu_cliE"
      },
      "cell_type": "code",
      "source": [
        "# check labels in occupation variable\n",
        "\n",
        "df.occupation.unique()\n"
      ],
      "execution_count": null,
      "outputs": []
    },
    {
      "metadata": {
        "trusted": true,
        "id": "E283-LvicliE"
      },
      "cell_type": "code",
      "source": [
        "# check frequency distribution of values in occupation variable\n",
        "\n",
        "df.occupation.value_counts()"
      ],
      "execution_count": null,
      "outputs": []
    },
    {
      "metadata": {
        "id": "WC_EJ6nqcliE"
      },
      "cell_type": "markdown",
      "source": [
        "We can see that there are 1843 values encoded as `?` in `occupation` variable. I will replace these `?` with `NaN`."
      ]
    },
    {
      "metadata": {
        "trusted": true,
        "id": "ZWFdAYzvcliE"
      },
      "cell_type": "code",
      "source": [
        "# replace '?' values in occupation variable with `NaN`\n",
        "\n",
        "df['occupation'].replace('?', np.NaN, inplace=True)\n"
      ],
      "execution_count": null,
      "outputs": []
    },
    {
      "metadata": {
        "trusted": true,
        "id": "ssUuOCwLcliE"
      },
      "cell_type": "code",
      "source": [
        "# again check the frequency distribution of values in occupation variable\n",
        "\n",
        "df.occupation.value_counts()"
      ],
      "execution_count": null,
      "outputs": []
    },
    {
      "metadata": {
        "id": "HB8wZ-2ycliE"
      },
      "cell_type": "markdown",
      "source": [
        "### Explore native_country variable\n"
      ]
    },
    {
      "metadata": {
        "trusted": true,
        "id": "e5UmE0LScliE"
      },
      "cell_type": "code",
      "source": [
        "# check labels in native_country variable\n",
        "\n",
        "df.native_country.unique()\n"
      ],
      "execution_count": null,
      "outputs": []
    },
    {
      "metadata": {
        "trusted": true,
        "id": "rBFTAqmOcliE"
      },
      "cell_type": "code",
      "source": [
        "# check frequency distribution of values in native_country variable\n",
        "\n",
        "df.native_country.value_counts()\n"
      ],
      "execution_count": null,
      "outputs": []
    },
    {
      "metadata": {
        "id": "gQEh8-_jcliF"
      },
      "cell_type": "markdown",
      "source": [
        "We can see that there are 583 values encoded as `?` in `native_country` variable. I will replace these `?` with `NaN`.\n"
      ]
    },
    {
      "metadata": {
        "trusted": true,
        "id": "SR1SgcumcliF"
      },
      "cell_type": "code",
      "source": [
        "# replace '?' values in native_country variable with `NaN`\n",
        "\n",
        "df['native_country'].replace('?', np.NaN, inplace=True)"
      ],
      "execution_count": null,
      "outputs": []
    },
    {
      "metadata": {
        "trusted": true,
        "id": "pf2Z3zFocliF"
      },
      "cell_type": "code",
      "source": [
        "# again check the frequency distribution of values in native_country variable\n",
        "\n",
        "df.native_country.value_counts()"
      ],
      "execution_count": null,
      "outputs": []
    },
    {
      "metadata": {
        "id": "MTMmGaBRcliF"
      },
      "cell_type": "markdown",
      "source": [
        "### Check missing values in categorical variables again"
      ]
    },
    {
      "metadata": {
        "trusted": true,
        "id": "RyTGOrLScliF"
      },
      "cell_type": "code",
      "source": [
        "df[categorical].isnull().sum()"
      ],
      "execution_count": null,
      "outputs": []
    },
    {
      "metadata": {
        "id": "VIEseqITcliF"
      },
      "cell_type": "markdown",
      "source": [
        "Now, we can see that `workclass`, `occupation` and `native_country` variable contains missing values."
      ]
    },
    {
      "metadata": {
        "id": "WbUb0E3HcliF"
      },
      "cell_type": "markdown",
      "source": [
        "### Number of labels: cardinality\n",
        "\n",
        "\n",
        "The number of labels within a categorical variable is known as **cardinality**. A high number of labels within a variable is known as **high cardinality**. High cardinality may pose some serious problems in the machine learning model. So, I will check for high cardinality."
      ]
    },
    {
      "metadata": {
        "trusted": true,
        "id": "Y5l6lj7FcliF"
      },
      "cell_type": "code",
      "source": [
        "# check for cardinality in categorical variables\n",
        "\n",
        "for var in categorical:\n",
        "\n",
        "    print(var, ' contains ', len(df[var].unique()), ' labels')"
      ],
      "execution_count": null,
      "outputs": []
    },
    {
      "metadata": {
        "id": "TMRpD5TgcliF"
      },
      "cell_type": "markdown",
      "source": [
        "We can see that `native_country` column contains relatively large number of labels as compared to other columns. I will check for cardinality after train-test split."
      ]
    },
    {
      "metadata": {
        "id": "7A6hJvCccliF"
      },
      "cell_type": "markdown",
      "source": [
        "### Explore Numerical Variables"
      ]
    },
    {
      "metadata": {
        "trusted": true,
        "id": "Hzkg5B35cliF"
      },
      "cell_type": "code",
      "source": [
        "# find numerical variables\n",
        "\n",
        "numerical = [var for var in df.columns if df[var].dtype!='O']\n",
        "\n",
        "print('There are {} numerical variables\\n'.format(len(numerical)))\n",
        "\n",
        "print('The numerical variables are :', numerical)"
      ],
      "execution_count": null,
      "outputs": []
    },
    {
      "metadata": {
        "trusted": true,
        "id": "7OcIs39ScliF"
      },
      "cell_type": "code",
      "source": [
        "# view the numerical variables\n",
        "\n",
        "df[numerical].head()"
      ],
      "execution_count": null,
      "outputs": []
    },
    {
      "metadata": {
        "id": "83lzMrpqcliF"
      },
      "cell_type": "markdown",
      "source": [
        "### Summary of numerical variables\n",
        "\n",
        "\n",
        "- There are 6 numerical variables.\n",
        "\n",
        "\n",
        "- These are given by `age`, `fnlwgt`, `education_num`, `capital_gain`, `capital_loss` and `hours_per_week`.\n",
        "\n",
        "\n",
        "- All of the numerical variables are of discrete data type."
      ]
    },
    {
      "metadata": {
        "id": "_DUCBXLhcliF"
      },
      "cell_type": "markdown",
      "source": [
        "### Explore problems within numerical variables\n",
        "\n",
        "\n",
        "Now, I will explore the numerical variables.\n",
        "\n",
        "\n",
        "### Missing values in numerical variables"
      ]
    },
    {
      "metadata": {
        "trusted": true,
        "id": "NKJIvkzocliF"
      },
      "cell_type": "code",
      "source": [
        "# check missing values in numerical variables\n",
        "\n",
        "df[numerical].isnull().sum()"
      ],
      "execution_count": null,
      "outputs": []
    },
    {
      "metadata": {
        "id": "3eXQPy_1cliF"
      },
      "cell_type": "markdown",
      "source": [
        "We can see that all the 6 numerical variables do not contain missing values."
      ]
    },
    {
      "metadata": {
        "id": "w-yTqx_1cliG"
      },
      "cell_type": "markdown",
      "source": [
        "# **8. Declare feature vector and target variable** <a class=\"anchor\" id=\"8\"></a>\n",
        "\n",
        "[Table of Contents](#0.1)"
      ]
    },
    {
      "metadata": {
        "trusted": true,
        "id": "3ix8S1r_cliG"
      },
      "cell_type": "code",
      "source": [
        "X = df.drop(['income'], axis=1)\n",
        "\n",
        "y = df['income']"
      ],
      "execution_count": null,
      "outputs": []
    },
    {
      "metadata": {
        "id": "bU1NnRYncliG"
      },
      "cell_type": "markdown",
      "source": [
        "# **9. Split data into separate training and test set** <a class=\"anchor\" id=\"9\"></a>\n",
        "\n",
        "[Table of Contents](#0.1)"
      ]
    },
    {
      "metadata": {
        "trusted": true,
        "id": "lxPa_qiGcliG"
      },
      "cell_type": "code",
      "source": [
        "# split X and y into training and testing sets\n",
        "\n",
        "from sklearn.model_selection import train_test_split\n",
        "\n",
        "X_train, X_test, y_train, y_test = train_test_split(X, y, test_size = 0.3, random_state = 0)\n"
      ],
      "execution_count": null,
      "outputs": []
    },
    {
      "metadata": {
        "trusted": true,
        "id": "BcqlG6EbcliG"
      },
      "cell_type": "code",
      "source": [
        "# check the shape of X_train and X_test\n",
        "\n",
        "X_train.shape, X_test.shape"
      ],
      "execution_count": null,
      "outputs": []
    },
    {
      "metadata": {
        "id": "3HImOoNtcliG"
      },
      "cell_type": "markdown",
      "source": [
        "# **10. Feature Engineering** <a class=\"anchor\" id=\"10\"></a>\n",
        "\n",
        "[Table of Contents](#0.1)\n",
        "\n",
        "\n",
        "**Feature Engineering** is the process of transforming raw data into useful features that help us to understand our model better and increase its predictive power. I will carry out feature engineering on different types of variables.\n",
        "\n",
        "\n",
        "First, I will display the categorical and numerical variables again separately."
      ]
    },
    {
      "metadata": {
        "trusted": true,
        "id": "v-5MeTbUcliG"
      },
      "cell_type": "code",
      "source": [
        "# check data types in X_train\n",
        "\n",
        "X_train.dtypes"
      ],
      "execution_count": null,
      "outputs": []
    },
    {
      "metadata": {
        "trusted": true,
        "id": "3p4Po-dJcliG"
      },
      "cell_type": "code",
      "source": [
        "# display categorical variables\n",
        "\n",
        "categorical = [col for col in X_train.columns if X_train[col].dtypes == 'O']\n",
        "\n",
        "categorical"
      ],
      "execution_count": null,
      "outputs": []
    },
    {
      "metadata": {
        "trusted": true,
        "id": "B8kuvVqFcliG"
      },
      "cell_type": "code",
      "source": [
        "# display numerical variables\n",
        "\n",
        "numerical = [col for col in X_train.columns if X_train[col].dtypes != 'O']\n",
        "\n",
        "numerical"
      ],
      "execution_count": null,
      "outputs": []
    },
    {
      "metadata": {
        "id": "D1X4_ziccliG"
      },
      "cell_type": "markdown",
      "source": [
        "### Engineering missing values in categorical variables"
      ]
    },
    {
      "metadata": {
        "trusted": true,
        "id": "FkhYZGjqcliG"
      },
      "cell_type": "code",
      "source": [
        "# print percentage of missing values in the categorical variables in training set\n",
        "\n",
        "X_train[categorical].isnull().mean()"
      ],
      "execution_count": null,
      "outputs": []
    },
    {
      "metadata": {
        "trusted": true,
        "id": "ZKw2cLzWcliG"
      },
      "cell_type": "code",
      "source": [
        "# print categorical variables with missing data\n",
        "\n",
        "for col in categorical:\n",
        "    if X_train[col].isnull().mean()>0:\n",
        "        print(col, (X_train[col].isnull().mean()))"
      ],
      "execution_count": null,
      "outputs": []
    },
    {
      "metadata": {
        "trusted": true,
        "id": "tYqAAsgEcliG"
      },
      "cell_type": "code",
      "source": [
        "# impute missing categorical variables with most frequent value\n",
        "\n",
        "for df2 in [X_train, X_test]:\n",
        "    df2['workclass'].fillna(X_train['workclass'].mode()[0], inplace=True)\n",
        "    df2['occupation'].fillna(X_train['occupation'].mode()[0], inplace=True)\n",
        "    df2['native_country'].fillna(X_train['native_country'].mode()[0], inplace=True)"
      ],
      "execution_count": null,
      "outputs": []
    },
    {
      "metadata": {
        "trusted": true,
        "id": "2v_moZ8McliG"
      },
      "cell_type": "code",
      "source": [
        "# check missing values in categorical variables in X_train\n",
        "\n",
        "X_train[categorical].isnull().sum()"
      ],
      "execution_count": null,
      "outputs": []
    },
    {
      "metadata": {
        "trusted": true,
        "id": "4HwKlhImcliG"
      },
      "cell_type": "code",
      "source": [
        "# check missing values in categorical variables in X_test\n",
        "\n",
        "X_test[categorical].isnull().sum()"
      ],
      "execution_count": null,
      "outputs": []
    },
    {
      "metadata": {
        "id": "YWwJlNr_cliG"
      },
      "cell_type": "markdown",
      "source": [
        "As a final check, I will check for missing values in X_train and X_test."
      ]
    },
    {
      "metadata": {
        "trusted": true,
        "id": "06r6VjOMcliH"
      },
      "cell_type": "code",
      "source": [
        "# check missing values in X_train\n",
        "\n",
        "X_train.isnull().sum()"
      ],
      "execution_count": null,
      "outputs": []
    },
    {
      "metadata": {
        "trusted": true,
        "id": "ZJZ_dbxJcliH"
      },
      "cell_type": "code",
      "source": [
        "# check missing values in X_test\n",
        "\n",
        "X_test.isnull().sum()"
      ],
      "execution_count": null,
      "outputs": []
    },
    {
      "metadata": {
        "id": "qRYtqTTBcliH"
      },
      "cell_type": "markdown",
      "source": [
        "We can see that there are no missing values in X_train and X_test."
      ]
    },
    {
      "metadata": {
        "id": "tLkzs272cliH"
      },
      "cell_type": "markdown",
      "source": [
        "### Encode categorical variables"
      ]
    },
    {
      "metadata": {
        "trusted": true,
        "id": "wY3yAhkTcliH"
      },
      "cell_type": "code",
      "source": [
        "# print categorical variables\n",
        "\n",
        "categorical"
      ],
      "execution_count": null,
      "outputs": []
    },
    {
      "metadata": {
        "trusted": true,
        "id": "EadVhvkYcliH"
      },
      "cell_type": "code",
      "source": [
        "X_train[categorical].head()"
      ],
      "execution_count": null,
      "outputs": []
    },
    {
      "metadata": {
        "trusted": true,
        "id": "SOe4-358cliH"
      },
      "cell_type": "code",
      "source": [
        "# import category encoders\n",
        "\n",
        "import category_encoders as ce"
      ],
      "execution_count": null,
      "outputs": []
    },
    {
      "metadata": {
        "trusted": true,
        "id": "HqUR6X0jcliH"
      },
      "cell_type": "code",
      "source": [
        "# encode remaining variables with one-hot encoding\n",
        "\n",
        "encoder = ce.OneHotEncoder(cols=['workclass', 'education', 'marital_status', 'occupation', 'relationship',\n",
        "                                 'race', 'sex', 'native_country'])\n",
        "\n",
        "X_train = encoder.fit_transform(X_train)\n",
        "\n",
        "X_test = encoder.transform(X_test)"
      ],
      "execution_count": null,
      "outputs": []
    },
    {
      "metadata": {
        "trusted": true,
        "id": "lny6djxrcliH"
      },
      "cell_type": "code",
      "source": [
        "X_train.head()"
      ],
      "execution_count": null,
      "outputs": []
    },
    {
      "metadata": {
        "trusted": true,
        "id": "ss8BqfSXcliH"
      },
      "cell_type": "code",
      "source": [
        "X_train.shape"
      ],
      "execution_count": null,
      "outputs": []
    },
    {
      "metadata": {
        "id": "7BbkXHvjcliH"
      },
      "cell_type": "markdown",
      "source": [
        "We can see that from the initial 14 columns, we now have 113 columns."
      ]
    },
    {
      "metadata": {
        "id": "roiQ9iArcliH"
      },
      "cell_type": "markdown",
      "source": [
        "Similarly, I will take a look at the `X_test` set."
      ]
    },
    {
      "metadata": {
        "trusted": true,
        "id": "1cS-phNacliH"
      },
      "cell_type": "code",
      "source": [
        "X_test.head()"
      ],
      "execution_count": null,
      "outputs": []
    },
    {
      "metadata": {
        "trusted": true,
        "id": "e7ooPtgVcliH"
      },
      "cell_type": "code",
      "source": [
        "X_test.shape"
      ],
      "execution_count": null,
      "outputs": []
    },
    {
      "metadata": {
        "id": "cIVUV-ELcliH"
      },
      "cell_type": "markdown",
      "source": [
        "We now have training and testing set ready for model building. Before that, we should map all the feature variables onto the same scale. It is called `feature scaling`. I will do it as follows."
      ]
    },
    {
      "metadata": {
        "id": "7EDoHXYFcliH"
      },
      "cell_type": "markdown",
      "source": [
        "# **11. Feature Scaling** <a class=\"anchor\" id=\"11\"></a>\n",
        "\n",
        "[Table of Contents](#0.1)"
      ]
    },
    {
      "metadata": {
        "trusted": true,
        "id": "bgOWy7pScliH"
      },
      "cell_type": "code",
      "source": [
        "cols = X_train.columns"
      ],
      "execution_count": null,
      "outputs": []
    },
    {
      "metadata": {
        "trusted": true,
        "id": "Xb8dmarwcliI"
      },
      "cell_type": "code",
      "source": [
        "from sklearn.preprocessing import RobustScaler\n",
        "\n",
        "scaler = RobustScaler()\n",
        "\n",
        "X_train = scaler.fit_transform(X_train)\n",
        "\n",
        "X_test = scaler.transform(X_test)\n"
      ],
      "execution_count": null,
      "outputs": []
    },
    {
      "metadata": {
        "trusted": true,
        "id": "sGvOIg82cliI"
      },
      "cell_type": "code",
      "source": [
        "X_train = pd.DataFrame(X_train, columns=[cols])"
      ],
      "execution_count": null,
      "outputs": []
    },
    {
      "metadata": {
        "trusted": true,
        "id": "NOFD51X-cliI"
      },
      "cell_type": "code",
      "source": [
        "X_test = pd.DataFrame(X_test, columns=[cols])"
      ],
      "execution_count": null,
      "outputs": []
    },
    {
      "metadata": {
        "trusted": true,
        "id": "Z9iVkQ4ucliI"
      },
      "cell_type": "code",
      "source": [
        "X_train.head()"
      ],
      "execution_count": null,
      "outputs": []
    },
    {
      "metadata": {
        "id": "eNiZ7yEVcliI"
      },
      "cell_type": "markdown",
      "source": [
        "We now have `X_train` dataset ready to be fed into the Gaussian Naive Bayes classifier. I will do it as follows."
      ]
    },
    {
      "metadata": {
        "id": "rOCG2EVxcliI"
      },
      "cell_type": "markdown",
      "source": [
        "# **12. Model training** <a class=\"anchor\" id=\"12\"></a>\n",
        "\n",
        "[Table of Contents](#0.1)"
      ]
    },
    {
      "metadata": {
        "trusted": true,
        "id": "pcIRp1R-cliI"
      },
      "cell_type": "code",
      "source": [
        "# train a Gaussian Naive Bayes classifier on the training set\n",
        "from sklearn.naive_bayes import GaussianNB\n",
        "\n",
        "\n",
        "# instantiate the model\n",
        "gnb = GaussianNB()\n",
        "\n",
        "\n",
        "# fit the model\n",
        "gnb.fit(X_train, y_train)\n"
      ],
      "execution_count": null,
      "outputs": []
    },
    {
      "metadata": {
        "id": "suK3uJnOcliI"
      },
      "cell_type": "markdown",
      "source": [
        "# **13. Predict the results** <a class=\"anchor\" id=\"13\"></a>\n",
        "\n",
        "[Table of Contents](#0.1)"
      ]
    },
    {
      "metadata": {
        "trusted": true,
        "id": "vocDsxFWcliI"
      },
      "cell_type": "code",
      "source": [
        "y_pred = gnb.predict(X_test)\n",
        "\n",
        "y_pred"
      ],
      "execution_count": null,
      "outputs": []
    },
    {
      "metadata": {
        "id": "GZmIVfSVcliI"
      },
      "cell_type": "markdown",
      "source": [
        "# **14. Check accuracy score** <a class=\"anchor\" id=\"14\"></a>\n",
        "\n",
        "[Table of Contents](#0.1)"
      ]
    },
    {
      "metadata": {
        "trusted": true,
        "id": "iAWZ1o1vcliI"
      },
      "cell_type": "code",
      "source": [
        "from sklearn.metrics import accuracy_score\n",
        "\n",
        "print('Model accuracy score: {0:0.4f}'. format(accuracy_score(y_test, y_pred)))"
      ],
      "execution_count": null,
      "outputs": []
    },
    {
      "metadata": {
        "id": "FCMqE0vdcliI"
      },
      "cell_type": "markdown",
      "source": [
        "Here, **y_test** are the true class labels and **y_pred** are the predicted class labels in the test-set."
      ]
    },
    {
      "metadata": {
        "id": "nOwAsRPscliI"
      },
      "cell_type": "markdown",
      "source": [
        "### Compare the train-set and test-set accuracy\n",
        "\n",
        "\n",
        "Now, I will compare the train-set and test-set accuracy to check for overfitting."
      ]
    },
    {
      "metadata": {
        "trusted": true,
        "id": "ZH4AM0HYcliI"
      },
      "cell_type": "code",
      "source": [
        "y_pred_train = gnb.predict(X_train)\n",
        "\n",
        "y_pred_train"
      ],
      "execution_count": null,
      "outputs": []
    },
    {
      "metadata": {
        "trusted": true,
        "id": "lnb7pwJxcliI"
      },
      "cell_type": "code",
      "source": [
        "print('Training-set accuracy score: {0:0.4f}'. format(accuracy_score(y_train, y_pred_train)))"
      ],
      "execution_count": null,
      "outputs": []
    },
    {
      "metadata": {
        "id": "auPU1X7ecliI"
      },
      "cell_type": "markdown",
      "source": [
        "### Check for overfitting and underfitting"
      ]
    },
    {
      "metadata": {
        "trusted": true,
        "id": "jO64m9avcliI"
      },
      "cell_type": "code",
      "source": [
        "# print the scores on training and test set\n",
        "\n",
        "print('Training set score: {:.4f}'.format(gnb.score(X_train, y_train)))\n",
        "\n",
        "print('Test set score: {:.4f}'.format(gnb.score(X_test, y_test)))"
      ],
      "execution_count": null,
      "outputs": []
    },
    {
      "metadata": {
        "id": "q9ZqJ9P_cliI"
      },
      "cell_type": "markdown",
      "source": [
        "The training-set accuracy score is 0.8067 while the test-set accuracy to be 0.8083. These two values are quite comparable. So, there is no sign of overfitting.\n"
      ]
    },
    {
      "metadata": {
        "id": "33CLw3UgcliJ"
      },
      "cell_type": "markdown",
      "source": [
        "### Compare model accuracy with null accuracy\n",
        "\n",
        "\n",
        "So, the model accuracy is 0.8083. But, we cannot say that our model is very good based on the above accuracy. We must compare it with the **null accuracy**. Null accuracy is the accuracy that could be achieved by always predicting the most frequent class.\n",
        "\n",
        "So, we should first check the class distribution in the test set."
      ]
    },
    {
      "metadata": {
        "trusted": true,
        "id": "rn-S-AXccliJ"
      },
      "cell_type": "code",
      "source": [
        "# check class distribution in test set\n",
        "\n",
        "y_test.value_counts()"
      ],
      "execution_count": null,
      "outputs": []
    },
    {
      "metadata": {
        "id": "0Ckg4XVTcliJ"
      },
      "cell_type": "markdown",
      "source": [
        "We can see that the occurences of most frequent class is 7407. So, we can calculate null accuracy by dividing 7407 by total number of occurences."
      ]
    },
    {
      "metadata": {
        "trusted": true,
        "id": "Kt4BEeLkcliJ"
      },
      "cell_type": "code",
      "source": [
        "# check null accuracy score\n",
        "\n",
        "null_accuracy = (7407/(7407+2362))\n",
        "\n",
        "print('Null accuracy score: {0:0.4f}'. format(null_accuracy))"
      ],
      "execution_count": null,
      "outputs": []
    },
    {
      "metadata": {
        "id": "4gSxJYCxcliJ"
      },
      "cell_type": "markdown",
      "source": [
        "We can see that our model accuracy score is 0.8083 but null accuracy score is 0.7582. So, we can conclude that our Gaussian Naive Bayes Classification model is doing a very good job in predicting the class labels."
      ]
    },
    {
      "metadata": {
        "id": "wKMme6IucliJ"
      },
      "cell_type": "markdown",
      "source": [
        "Now, based on the above analysis we can conclude that our classification model accuracy is very good. Our model is doing a very good job in terms of predicting the class labels.\n",
        "\n",
        "\n",
        "But, it does not give the underlying distribution of values. Also, it does not tell anything about the type of errors our classifer is making.\n",
        "\n",
        "\n",
        "We have another tool called `Confusion matrix` that comes to our rescue."
      ]
    },
    {
      "metadata": {
        "id": "mFS2EvPHcliJ"
      },
      "cell_type": "markdown",
      "source": [
        "# **15. Confusion matrix** <a class=\"anchor\" id=\"15\"></a>\n",
        "\n",
        "[Table of Contents](#0.1)\n",
        "\n",
        "\n",
        "A confusion matrix is a tool for summarizing the performance of a classification algorithm. A confusion matrix will give us a clear picture of classification model performance and the types of errors produced by the model. It gives us a summary of correct and incorrect predictions broken down by each category. The summary is represented in a tabular form.\n",
        "\n",
        "\n",
        "Four types of outcomes are possible while evaluating a classification model performance. These four outcomes are described below:-\n",
        "\n",
        "\n",
        "**True Positives (TP)** – True Positives occur when we predict an observation belongs to a certain class and the observation actually belongs to that class.\n",
        "\n",
        "\n",
        "**True Negatives (TN)** – True Negatives occur when we predict an observation does not belong to a certain class and the observation actually does not belong to that class.\n",
        "\n",
        "\n",
        "**False Positives (FP)** – False Positives occur when we predict an observation belongs to a    certain class but the observation actually does not belong to that class. This type of error is called **Type I error.**\n",
        "\n",
        "\n",
        "\n",
        "**False Negatives (FN)** – False Negatives occur when we predict an observation does not belong to a certain class but the observation actually belongs to that class. This is a very serious error and it is called **Type II error.**\n",
        "\n",
        "\n",
        "\n",
        "These four outcomes are summarized in a confusion matrix given below.\n"
      ]
    },
    {
      "metadata": {
        "trusted": true,
        "id": "FjcZRUdjcliJ"
      },
      "cell_type": "code",
      "source": [
        "# Print the Confusion Matrix and slice it into four pieces\n",
        "\n",
        "from sklearn.metrics import confusion_matrix\n",
        "\n",
        "cm = confusion_matrix(y_test, y_pred)\n",
        "\n",
        "print('Confusion matrix\\n\\n', cm)\n",
        "\n",
        "print('\\nTrue Positives(TP) = ', cm[0,0])\n",
        "\n",
        "print('\\nTrue Negatives(TN) = ', cm[1,1])\n",
        "\n",
        "print('\\nFalse Positives(FP) = ', cm[0,1])\n",
        "\n",
        "print('\\nFalse Negatives(FN) = ', cm[1,0])"
      ],
      "execution_count": null,
      "outputs": []
    },
    {
      "metadata": {
        "id": "zku-GGSOcliJ"
      },
      "cell_type": "markdown",
      "source": [
        "The confusion matrix shows `5999 + 1897 = 7896 correct predictions` and `1408 + 465 = 1873 incorrect predictions`.\n",
        "\n",
        "\n",
        "In this case, we have\n",
        "\n",
        "\n",
        "- `True Positives` (Actual Positive:1 and Predict Positive:1) - 5999\n",
        "\n",
        "\n",
        "- `True Negatives` (Actual Negative:0 and Predict Negative:0) - 1897\n",
        "\n",
        "\n",
        "- `False Positives` (Actual Negative:0 but Predict Positive:1) - 1408 `(Type I error)`\n",
        "\n",
        "\n",
        "- `False Negatives` (Actual Positive:1 but Predict Negative:0) - 465 `(Type II error)`"
      ]
    },
    {
      "metadata": {
        "trusted": true,
        "id": "0MFhDEbqcliJ"
      },
      "cell_type": "code",
      "source": [
        "# visualize confusion matrix with seaborn heatmap\n",
        "\n",
        "cm_matrix = pd.DataFrame(data=cm, columns=['Actual Positive:1', 'Actual Negative:0'],\n",
        "                                 index=['Predict Positive:1', 'Predict Negative:0'])\n",
        "\n",
        "sns.heatmap(cm_matrix, annot=True, fmt='d', cmap='YlGnBu')"
      ],
      "execution_count": null,
      "outputs": []
    },
    {
      "metadata": {
        "id": "q8eWhdC_cliJ"
      },
      "cell_type": "markdown",
      "source": [
        "# **16. Classification metrices** <a class=\"anchor\" id=\"16\"></a>\n",
        "\n",
        "[Table of Contents](#0.1)"
      ]
    },
    {
      "metadata": {
        "id": "HdZgW9tGcliJ"
      },
      "cell_type": "markdown",
      "source": [
        "### Classification Report\n",
        "\n",
        "\n",
        "**Classification report** is another way to evaluate the classification model performance. It displays the  **precision**, **recall**, **f1** and **support** scores for the model. I have described these terms in later.\n",
        "\n",
        "We can print a classification report as follows:-"
      ]
    },
    {
      "metadata": {
        "trusted": true,
        "id": "aoFAYM3GcliJ"
      },
      "cell_type": "code",
      "source": [
        "from sklearn.metrics import classification_report\n",
        "\n",
        "print(classification_report(y_test, y_pred))"
      ],
      "execution_count": null,
      "outputs": []
    },
    {
      "metadata": {
        "id": "MIFJR-0ZcliJ"
      },
      "cell_type": "markdown",
      "source": [
        "### Classification accuracy"
      ]
    },
    {
      "metadata": {
        "trusted": true,
        "id": "AVNLgFiJcliJ"
      },
      "cell_type": "code",
      "source": [
        "TP = cm[0,0]\n",
        "TN = cm[1,1]\n",
        "FP = cm[0,1]\n",
        "FN = cm[1,0]"
      ],
      "execution_count": null,
      "outputs": []
    },
    {
      "metadata": {
        "trusted": true,
        "id": "BTVZnrVhcliJ"
      },
      "cell_type": "code",
      "source": [
        "# print classification accuracy\n",
        "\n",
        "classification_accuracy = (TP + TN) / float(TP + TN + FP + FN)\n",
        "\n",
        "print('Classification accuracy : {0:0.4f}'.format(classification_accuracy))\n"
      ],
      "execution_count": null,
      "outputs": []
    },
    {
      "metadata": {
        "id": "D_rLtg_XcliJ"
      },
      "cell_type": "markdown",
      "source": [
        "### Classification error"
      ]
    },
    {
      "metadata": {
        "trusted": true,
        "id": "bLZASWHHcliK"
      },
      "cell_type": "code",
      "source": [
        "# print classification error\n",
        "\n",
        "classification_error = (FP + FN) / float(TP + TN + FP + FN)\n",
        "\n",
        "print('Classification error : {0:0.4f}'.format(classification_error))\n"
      ],
      "execution_count": null,
      "outputs": []
    },
    {
      "metadata": {
        "id": "wR8cSsUWcliK"
      },
      "cell_type": "markdown",
      "source": [
        "### Precision\n",
        "\n",
        "\n",
        "**Precision** can be defined as the percentage of correctly predicted positive outcomes out of all the predicted positive outcomes. It can be given as the ratio of true positives (TP) to the sum of true and false positives (TP + FP).\n",
        "\n",
        "\n",
        "So, **Precision** identifies the proportion of correctly predicted positive outcome. It is more concerned with the positive class than the negative class.\n",
        "\n",
        "\n",
        "\n",
        "Mathematically, precision can be defined as the ratio of `TP to (TP + FP)`.\n",
        "\n"
      ]
    },
    {
      "metadata": {
        "trusted": true,
        "id": "cxQ90ELzcliK"
      },
      "cell_type": "code",
      "source": [
        "# print precision score\n",
        "\n",
        "precision = TP / float(TP + FP)\n",
        "\n",
        "\n",
        "print('Precision : {0:0.4f}'.format(precision))\n"
      ],
      "execution_count": null,
      "outputs": []
    },
    {
      "metadata": {
        "id": "QJ7mW_gDcliK"
      },
      "cell_type": "markdown",
      "source": [
        "### Recall\n",
        "\n",
        "\n",
        "Recall can be defined as the percentage of correctly predicted positive outcomes out of all the actual positive outcomes.\n",
        "It can be given as the ratio of true positives (TP) to the sum of true positives and false negatives (TP + FN). **Recall** is also called **Sensitivity**.\n",
        "\n",
        "\n",
        "**Recall** identifies the proportion of correctly predicted actual positives.\n",
        "\n",
        "\n",
        "Mathematically, recall can be given as the ratio of `TP to (TP + FN)`.\n",
        "\n"
      ]
    },
    {
      "metadata": {
        "trusted": true,
        "id": "UlaVcdsScliK"
      },
      "cell_type": "code",
      "source": [
        "recall = TP / float(TP + FN)\n",
        "\n",
        "print('Recall or Sensitivity : {0:0.4f}'.format(recall))"
      ],
      "execution_count": null,
      "outputs": []
    },
    {
      "metadata": {
        "id": "zcDSU9vscliK"
      },
      "cell_type": "markdown",
      "source": [
        "### True Positive Rate\n",
        "\n",
        "\n",
        "**True Positive Rate** is synonymous with **Recall**.\n"
      ]
    },
    {
      "metadata": {
        "trusted": true,
        "id": "DeyqYdWfcliK"
      },
      "cell_type": "code",
      "source": [
        "true_positive_rate = TP / float(TP + FN)\n",
        "\n",
        "\n",
        "print('True Positive Rate : {0:0.4f}'.format(true_positive_rate))"
      ],
      "execution_count": null,
      "outputs": []
    },
    {
      "metadata": {
        "id": "CBrXF0JKcliK"
      },
      "cell_type": "markdown",
      "source": [
        "### False Positive Rate"
      ]
    },
    {
      "metadata": {
        "trusted": true,
        "id": "k6FVvKWhcliK"
      },
      "cell_type": "code",
      "source": [
        "false_positive_rate = FP / float(FP + TN)\n",
        "\n",
        "\n",
        "print('False Positive Rate : {0:0.4f}'.format(false_positive_rate))"
      ],
      "execution_count": null,
      "outputs": []
    },
    {
      "metadata": {
        "id": "Pz0rPSIAcliK"
      },
      "cell_type": "markdown",
      "source": [
        "### Specificity"
      ]
    },
    {
      "metadata": {
        "trusted": true,
        "id": "1MFJuAnDcliK"
      },
      "cell_type": "code",
      "source": [
        "specificity = TN / (TN + FP)\n",
        "\n",
        "print('Specificity : {0:0.4f}'.format(specificity))"
      ],
      "execution_count": null,
      "outputs": []
    },
    {
      "metadata": {
        "id": "SHRUaXqacliK"
      },
      "cell_type": "markdown",
      "source": [
        "### f1-score\n",
        "\n",
        "\n",
        "**f1-score** is the weighted harmonic mean of precision and recall. The best possible **f1-score** would be 1.0 and the worst\n",
        "would be 0.0.  **f1-score** is the harmonic mean of precision and recall. So, **f1-score** is always lower than accuracy measures as they embed precision and recall into their computation. The weighted average of `f1-score` should be used to\n",
        "compare classifier models, not global accuracy.\n",
        "\n",
        "\n"
      ]
    },
    {
      "metadata": {
        "id": "MToExmkfcliK"
      },
      "cell_type": "markdown",
      "source": [
        "### Support\n",
        "\n",
        "\n",
        "**Support** is the actual number of occurrences of the class in our dataset."
      ]
    },
    {
      "metadata": {
        "id": "1PYXoRmecliK"
      },
      "cell_type": "markdown",
      "source": [
        "# **17. Calculate class probabilities** <a class=\"anchor\" id=\"17\"></a>\n",
        "\n",
        "[Table of Contents](#0.1)"
      ]
    },
    {
      "metadata": {
        "trusted": true,
        "id": "Uc3o-NqFcliK"
      },
      "cell_type": "code",
      "source": [
        "# print the first 10 predicted probabilities of two classes- 0 and 1\n",
        "\n",
        "y_pred_prob = gnb.predict_proba(X_test)[0:10]\n",
        "\n",
        "y_pred_prob"
      ],
      "execution_count": null,
      "outputs": []
    },
    {
      "metadata": {
        "id": "zxl0192UcliK"
      },
      "cell_type": "markdown",
      "source": [
        "### Observations\n",
        "\n",
        "\n",
        "- In each row, the numbers sum to 1.\n",
        "\n",
        "\n",
        "- There are 2 columns which correspond to 2 classes - `<=50K` and `>50K`.\n",
        "\n",
        "    - Class 0 => <=50K - Class that a person makes less than equal to 50K.    \n",
        "    \n",
        "    - Class 1 => >50K  - Class that a person makes more than 50K.\n",
        "        \n",
        "    \n",
        "- Importance of predicted probabilities\n",
        "\n",
        "    - We can rank the observations by probability of whether a person makes less than or equal to 50K or more than 50K.\n",
        "\n",
        "\n",
        "- predict_proba process\n",
        "\n",
        "    - Predicts the probabilities    \n",
        "    \n",
        "    - Choose the class with the highest probability    \n",
        "    \n",
        "    \n",
        "- Classification threshold level\n",
        "\n",
        "    - There is a classification threshold level of 0.5.    \n",
        "    \n",
        "    - Class 0 => <=50K - probability of salary less than or equal to 50K is predicted if probability < 0.5.    \n",
        "    \n",
        "    - Class 1 => >50K - probability of salary more than 50K is predicted if probability > 0.5.    \n",
        "    \n"
      ]
    },
    {
      "metadata": {
        "trusted": true,
        "id": "smZ9nykVcliK"
      },
      "cell_type": "code",
      "source": [
        "# store the probabilities in dataframe\n",
        "\n",
        "y_pred_prob_df = pd.DataFrame(data=y_pred_prob, columns=['Prob of - <=50K', 'Prob of - >50K'])\n",
        "\n",
        "y_pred_prob_df"
      ],
      "execution_count": null,
      "outputs": []
    },
    {
      "metadata": {
        "trusted": true,
        "id": "AVNR4vnCcliK"
      },
      "cell_type": "code",
      "source": [
        "# print the first 10 predicted probabilities for class 1 - Probability of >50K\n",
        "\n",
        "gnb.predict_proba(X_test)[0:10, 1]"
      ],
      "execution_count": null,
      "outputs": []
    },
    {
      "metadata": {
        "trusted": true,
        "id": "RqPqt2UrcliK"
      },
      "cell_type": "code",
      "source": [
        "# store the predicted probabilities for class 1 - Probability of >50K\n",
        "\n",
        "y_pred1 = gnb.predict_proba(X_test)[:, 1]"
      ],
      "execution_count": null,
      "outputs": []
    },
    {
      "metadata": {
        "trusted": true,
        "id": "HagsblOvcliL"
      },
      "cell_type": "code",
      "source": [
        "# plot histogram of predicted probabilities\n",
        "\n",
        "\n",
        "# adjust the font size\n",
        "plt.rcParams['font.size'] = 12\n",
        "\n",
        "\n",
        "# plot histogram with 10 bins\n",
        "plt.hist(y_pred1, bins = 10)\n",
        "\n",
        "\n",
        "# set the title of predicted probabilities\n",
        "plt.title('Histogram of predicted probabilities of salaries >50K')\n",
        "\n",
        "\n",
        "# set the x-axis limit\n",
        "plt.xlim(0,1)\n",
        "\n",
        "\n",
        "# set the title\n",
        "plt.xlabel('Predicted probabilities of salaries >50K')\n",
        "plt.ylabel('Frequency')"
      ],
      "execution_count": null,
      "outputs": []
    },
    {
      "metadata": {
        "id": "EWuPMPeUcliL"
      },
      "cell_type": "markdown",
      "source": [
        "### Observations\n",
        "\n",
        "\n",
        "- We can see that the above histogram is highly positive skewed.\n",
        "\n",
        "\n",
        "- The first column tell us that there are approximately 5700 observations with probability between 0.0 and 0.1 whose salary\n",
        "  is <=50K.\n",
        "\n",
        "\n",
        "- There are relatively small number of observations with probability > 0.5.\n",
        "\n",
        "\n",
        "- So, these small number of observations predict that the salaries will be >50K.\n",
        "\n",
        "\n",
        "- Majority of observations predcit that the salaries will be <=50K."
      ]
    },
    {
      "metadata": {
        "id": "yX9XjH4VcliL"
      },
      "cell_type": "markdown",
      "source": [
        "# **18. ROC - AUC** <a class=\"anchor\" id=\"18\"></a>\n",
        "\n",
        "[Table of Contents](#0.1)\n",
        "\n",
        "\n",
        "\n",
        "### ROC Curve\n",
        "\n",
        "\n",
        "Another tool to measure the classification model performance visually is **ROC Curve**. ROC Curve stands for **Receiver Operating Characteristic Curve**. An **ROC Curve** is a plot which shows the performance of a classification model at various\n",
        "classification threshold levels.\n",
        "\n",
        "\n",
        "\n",
        "The **ROC Curve** plots the **True Positive Rate (TPR)** against the **False Positive Rate (FPR)** at various threshold levels.\n",
        "\n",
        "\n",
        "\n",
        "**True Positive Rate (TPR)** is also called **Recall**. It is defined as the ratio of `TP to (TP + FN)`.\n",
        "\n",
        "\n",
        "\n",
        "\n",
        "**False Positive Rate (FPR)** is defined as the ratio of `FP to (FP + TN)`.\n",
        "\n",
        "\n",
        "\n",
        "In the ROC Curve, we will focus on the TPR (True Positive Rate) and FPR (False Positive Rate) of a single point. This will give us the general performance of the ROC curve which consists of the TPR and FPR at various threshold levels. So, an ROC Curve plots TPR vs FPR at different classification threshold levels. If we lower the threshold levels, it may result in more items being classified as positve. It will increase both True Positives (TP) and False Positives (FP).\n",
        "\n"
      ]
    },
    {
      "metadata": {
        "trusted": true,
        "id": "VIjhpMBOcliL"
      },
      "cell_type": "code",
      "source": [
        "# plot ROC Curve\n",
        "\n",
        "from sklearn.metrics import roc_curve\n",
        "\n",
        "fpr, tpr, thresholds = roc_curve(y_test, y_pred1, pos_label = '>50K')\n",
        "\n",
        "plt.figure(figsize=(6,4))\n",
        "\n",
        "plt.plot(fpr, tpr, linewidth=2)\n",
        "\n",
        "plt.plot([0,1], [0,1], 'k--' )\n",
        "\n",
        "plt.rcParams['font.size'] = 12\n",
        "\n",
        "plt.title('ROC curve for Gaussian Naive Bayes Classifier for Predicting Salaries')\n",
        "\n",
        "plt.xlabel('False Positive Rate (1 - Specificity)')\n",
        "\n",
        "plt.ylabel('True Positive Rate (Sensitivity)')\n",
        "\n",
        "plt.show()\n"
      ],
      "execution_count": null,
      "outputs": []
    },
    {
      "metadata": {
        "id": "62x5XIdCcliL"
      },
      "cell_type": "markdown",
      "source": [
        "ROC curve help us to choose a threshold level that balances sensitivity and specificity for a particular context."
      ]
    },
    {
      "metadata": {
        "id": "ZzmrAGemcliL"
      },
      "cell_type": "markdown",
      "source": [
        "### ROC  AUC\n",
        "\n",
        "\n",
        "**ROC AUC** stands for **Receiver Operating Characteristic - Area Under Curve**. It is a technique to compare classifier performance. In this technique, we measure the `area under the curve (AUC)`. A perfect classifier will have a ROC AUC equal to 1, whereas a purely random classifier will have a ROC AUC equal to 0.5.\n",
        "\n",
        "\n",
        "So, **ROC AUC** is the percentage of the ROC plot that is underneath the curve."
      ]
    },
    {
      "metadata": {
        "trusted": true,
        "id": "Det-exOqcliL"
      },
      "cell_type": "code",
      "source": [
        "# compute ROC AUC\n",
        "\n",
        "from sklearn.metrics import roc_auc_score\n",
        "\n",
        "ROC_AUC = roc_auc_score(y_test, y_pred1)\n",
        "\n",
        "print('ROC AUC : {:.4f}'.format(ROC_AUC))"
      ],
      "execution_count": null,
      "outputs": []
    },
    {
      "metadata": {
        "id": "myjnxstEcliL"
      },
      "cell_type": "markdown",
      "source": [
        "### Interpretation\n",
        "\n",
        "\n",
        "- ROC AUC is a single number summary of classifier performance. The higher the value, the better the classifier.\n",
        "\n",
        "- ROC AUC of our model approaches towards 1. So, we can conclude that our classifier does a good job in predicting whether it will rain tomorrow or not."
      ]
    },
    {
      "metadata": {
        "trusted": true,
        "id": "6j8gZBMNcliL"
      },
      "cell_type": "code",
      "source": [
        "# calculate cross-validated ROC AUC\n",
        "\n",
        "from sklearn.model_selection import cross_val_score\n",
        "\n",
        "Cross_validated_ROC_AUC = cross_val_score(gnb, X_train, y_train, cv=5, scoring='roc_auc').mean()\n",
        "\n",
        "print('Cross validated ROC AUC : {:.4f}'.format(Cross_validated_ROC_AUC))"
      ],
      "execution_count": null,
      "outputs": []
    },
    {
      "metadata": {
        "id": "Q8_Nbrj5cliL"
      },
      "cell_type": "markdown",
      "source": [
        "# **19. k-Fold Cross Validation** <a class=\"anchor\" id=\"19\"></a>\n",
        "\n",
        "[Table of Contents](#0.1)"
      ]
    },
    {
      "metadata": {
        "trusted": true,
        "id": "9jQYjYfPcliL"
      },
      "cell_type": "code",
      "source": [
        "# Applying 10-Fold Cross Validation\n",
        "\n",
        "from sklearn.model_selection import cross_val_score\n",
        "\n",
        "scores = cross_val_score(gnb, X_train, y_train, cv = 10, scoring='accuracy')\n",
        "\n",
        "print('Cross-validation scores:{}'.format(scores))"
      ],
      "execution_count": null,
      "outputs": []
    },
    {
      "metadata": {
        "id": "wEd1o9tNcliL"
      },
      "cell_type": "markdown",
      "source": [
        "We can summarize the cross-validation accuracy by calculating its mean."
      ]
    },
    {
      "metadata": {
        "trusted": true,
        "id": "tKCixFt0cliL"
      },
      "cell_type": "code",
      "source": [
        "# compute Average cross-validation score\n",
        "\n",
        "print('Average cross-validation score: {:.4f}'.format(scores.mean()))"
      ],
      "execution_count": null,
      "outputs": []
    },
    {
      "metadata": {
        "id": "zGV7DtoacliL"
      },
      "cell_type": "markdown",
      "source": [
        "### Interpretation\n",
        "\n",
        "\n",
        "- Using the mean cross-validation, we can conclude that we expect the model to be around 80.63% accurate on average.\n",
        "\n",
        "- If we look at all the 10 scores produced by the 10-fold cross-validation, we can also conclude that there is a relatively small variance in the accuracy between folds, ranging from 81.35% accuracy to 79.64% accuracy. So, we can conclude that the model is independent of the particular folds used for training.\n",
        "\n",
        "- Our original model accuracy is 0.8083, but the mean cross-validation accuracy is 0.8063. So, the 10-fold cross-validation accuracy does not result in performance improvement for this model."
      ]
    },
    {
      "metadata": {
        "id": "BT07luK1cliM"
      },
      "cell_type": "markdown",
      "source": [
        "# **20. Results and conclusion** <a class=\"anchor\" id=\"20\"></a>\n",
        "\n",
        "[Table of Contents](#0.1)\n",
        "\n",
        "\n",
        "1.\tIn this project, I build a Gaussian Naïve Bayes Classifier model to predict whether a person makes over 50K a year. The model yields a very good performance as indicated by the model accuracy which was found to be 0.8083.\n",
        "2.\tThe training-set accuracy score is 0.8067 while the test-set accuracy to be 0.8083. These two values are quite comparable. So, there is no sign of overfitting.\n",
        "3.\tI have compared the model accuracy score which is 0.8083 with null accuracy score which is 0.7582. So, we can conclude that our Gaussian Naïve Bayes classifier model is doing a very good job in predicting the class labels.\n",
        "4.\tROC AUC of our model approaches towards 1. So, we can conclude that our classifier does a very good job in predicting whether a person makes over 50K a year.\n",
        "5.\tUsing the mean cross-validation, we can conclude that we expect the model to be around 80.63% accurate on average.\n",
        "6.\tIf we look at all the 10 scores produced by the 10-fold cross-validation, we can also conclude that there is a relatively small variance in the accuracy between folds, ranging from 81.35% accuracy to 79.64% accuracy. So, we can conclude that the model is independent of the particular folds used for training.\n",
        "7.\tOur original model accuracy is 0.8083, but the mean cross-validation accuracy is 0.8063. So, the 10-fold cross-validation accuracy does not result in performance improvement for this model."
      ]
    },
    {
      "metadata": {
        "id": "c5Z52gXKcliM"
      },
      "cell_type": "markdown",
      "source": [
        "# **21. References** <a class=\"anchor\" id=\"21\"></a>\n",
        "\n",
        "[Table of Contents](#0.1)\n",
        "\n",
        "\n",
        "\n",
        "The work done in this project is inspired from following books and websites:-\n",
        "\n",
        "1. Hands on Machine Learning with Scikit-Learn and Tensorflow by Aurélién Géron\n",
        "\n",
        "2. Introduction to Machine Learning with Python by Andreas C. Müller and Sarah Guido\n",
        "\n",
        "3. Udemy course – Machine Learning – A Z by Kirill Eremenko and Hadelin de Ponteves\n",
        "\n",
        "4. https://en.wikipedia.org/wiki/Naive_Bayes_classifier\n",
        "\n",
        "5. http://dataaspirant.com/2017/02/06/naive-bayes-classifier-machine-learning/\n",
        "\n",
        "6. https://www.datacamp.com/community/tutorials/naive-bayes-scikit-learn\n",
        "\n",
        "7. https://stackabuse.com/the-naive-bayes-algorithm-in-python-with-scikit-learn/\n",
        "\n",
        "8. https://jakevdp.github.io/PythonDataScienceHandbook/05.05-naive-bayes.html"
      ]
    },
    {
      "metadata": {
        "id": "J6b9f7ErcliM"
      },
      "cell_type": "markdown",
      "source": [
        "So, now we will come to the end of this kernel.\n",
        "\n",
        "I hope you find this kernel useful and enjoyable.\n",
        "\n",
        "Your comments and feedback are most welcome.\n",
        "\n",
        "Thank you\n"
      ]
    },
    {
      "metadata": {
        "id": "mKwTKaQpcliM"
      },
      "cell_type": "markdown",
      "source": [
        "[Go to Top](#0)"
      ]
    }
  ],
  "metadata": {
    "kernelspec": {
      "language": "python",
      "display_name": "Python 3",
      "name": "python3"
    },
    "language_info": {
      "pygments_lexer": "ipython3",
      "nbconvert_exporter": "python",
      "version": "3.6.4",
      "file_extension": ".py",
      "codemirror_mode": {
        "name": "ipython",
        "version": 3
      },
      "name": "python",
      "mimetype": "text/x-python"
    },
    "colab": {
      "name": "Naive Bayes Classifier in Python",
      "provenance": [],
      "include_colab_link": true
    }
  },
  "nbformat": 4,
  "nbformat_minor": 0
}